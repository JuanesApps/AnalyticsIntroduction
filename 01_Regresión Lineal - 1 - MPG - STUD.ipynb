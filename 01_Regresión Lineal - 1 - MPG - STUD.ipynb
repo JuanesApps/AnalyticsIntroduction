{
 "cells": [
  {
   "cell_type": "markdown",
   "metadata": {},
   "source": [
    "# Regresión lineal"
   ]
  },
  {
   "cell_type": "markdown",
   "metadata": {},
   "source": [
    "Importamos las librerías que vamos a utilizar"
   ]
  },
  {
   "cell_type": "code",
   "execution_count": 1,
   "metadata": {},
   "outputs": [],
   "source": [
    "import numpy as np #operaciones matriciales y con vectores\n",
    "import pandas as pd #tratamiento de datos\n",
    "import matplotlib.pyplot as plt #gráficos\n",
    "from sklearn import datasets, linear_model #datasets y modelos de aprendizaje automático (ML)\n",
    "from sklearn.model_selection import train_test_split #metodo de particionamiento de datasets para evaluación\n",
    "from sklearn.metrics import mean_squared_error, r2_score\n",
    "import seaborn as sns\n",
    "\n",
    "from scipy import stats #para poder hacer cálculos científicos --> valores p\n",
    "import statsmodels.api as sm"
   ]
  },
  {
   "cell_type": "markdown",
   "metadata": {},
   "source": [
    "## Preparación de los datos"
   ]
  },
  {
   "cell_type": "markdown",
   "metadata": {},
   "source": [
    "Vamos a cargar en un **dataframe** de ***pandas*** un dataset muy utilizado para explicar conceptos de aprendizaje del repositorio de Machine Learning alojado en la Universidad De California en Irvine (UCI), que contiene información acerca de automóviles y su rendimiento en millas por galón (MPG)."
   ]
  },
  {
   "cell_type": "code",
   "execution_count": 2,
   "metadata": {},
   "outputs": [
    {
     "name": "stdout",
     "output_type": "stream",
     "text": [
      "(406, 9)\n"
     ]
    },
    {
     "data": {
      "text/html": [
       "<div>\n",
       "<style scoped>\n",
       "    .dataframe tbody tr th:only-of-type {\n",
       "        vertical-align: middle;\n",
       "    }\n",
       "\n",
       "    .dataframe tbody tr th {\n",
       "        vertical-align: top;\n",
       "    }\n",
       "\n",
       "    .dataframe thead th {\n",
       "        text-align: right;\n",
       "    }\n",
       "</style>\n",
       "<table border=\"1\" class=\"dataframe\">\n",
       "  <thead>\n",
       "    <tr style=\"text-align: right;\">\n",
       "      <th></th>\n",
       "      <th>mpg</th>\n",
       "      <th>cylinders</th>\n",
       "      <th>displacement</th>\n",
       "      <th>horsepower</th>\n",
       "      <th>weight</th>\n",
       "      <th>acceleration</th>\n",
       "      <th>model</th>\n",
       "      <th>origin</th>\n",
       "      <th>car_name</th>\n",
       "    </tr>\n",
       "  </thead>\n",
       "  <tbody>\n",
       "    <tr>\n",
       "      <th>0</th>\n",
       "      <td>18.0</td>\n",
       "      <td>8.0</td>\n",
       "      <td>307.0</td>\n",
       "      <td>130.0</td>\n",
       "      <td>3504.0</td>\n",
       "      <td>12.0</td>\n",
       "      <td>70.0</td>\n",
       "      <td>1.0</td>\n",
       "      <td>chevrolet chevelle malibu</td>\n",
       "    </tr>\n",
       "    <tr>\n",
       "      <th>1</th>\n",
       "      <td>15.0</td>\n",
       "      <td>8.0</td>\n",
       "      <td>350.0</td>\n",
       "      <td>165.0</td>\n",
       "      <td>3693.0</td>\n",
       "      <td>11.5</td>\n",
       "      <td>70.0</td>\n",
       "      <td>1.0</td>\n",
       "      <td>buick skylark 320</td>\n",
       "    </tr>\n",
       "    <tr>\n",
       "      <th>2</th>\n",
       "      <td>18.0</td>\n",
       "      <td>8.0</td>\n",
       "      <td>318.0</td>\n",
       "      <td>150.0</td>\n",
       "      <td>3436.0</td>\n",
       "      <td>11.0</td>\n",
       "      <td>70.0</td>\n",
       "      <td>1.0</td>\n",
       "      <td>plymouth satellite</td>\n",
       "    </tr>\n",
       "    <tr>\n",
       "      <th>3</th>\n",
       "      <td>16.0</td>\n",
       "      <td>8.0</td>\n",
       "      <td>304.0</td>\n",
       "      <td>150.0</td>\n",
       "      <td>3433.0</td>\n",
       "      <td>12.0</td>\n",
       "      <td>70.0</td>\n",
       "      <td>1.0</td>\n",
       "      <td>amc rebel sst</td>\n",
       "    </tr>\n",
       "    <tr>\n",
       "      <th>4</th>\n",
       "      <td>17.0</td>\n",
       "      <td>8.0</td>\n",
       "      <td>302.0</td>\n",
       "      <td>140.0</td>\n",
       "      <td>3449.0</td>\n",
       "      <td>10.5</td>\n",
       "      <td>70.0</td>\n",
       "      <td>1.0</td>\n",
       "      <td>ford torino</td>\n",
       "    </tr>\n",
       "  </tbody>\n",
       "</table>\n",
       "</div>"
      ],
      "text/plain": [
       "    mpg  cylinders  displacement  horsepower  weight  acceleration  model  \\\n",
       "0  18.0        8.0         307.0       130.0  3504.0          12.0   70.0   \n",
       "1  15.0        8.0         350.0       165.0  3693.0          11.5   70.0   \n",
       "2  18.0        8.0         318.0       150.0  3436.0          11.0   70.0   \n",
       "3  16.0        8.0         304.0       150.0  3433.0          12.0   70.0   \n",
       "4  17.0        8.0         302.0       140.0  3449.0          10.5   70.0   \n",
       "\n",
       "   origin                   car_name  \n",
       "0     1.0  chevrolet chevelle malibu  \n",
       "1     1.0          buick skylark 320  \n",
       "2     1.0         plymouth satellite  \n",
       "3     1.0              amc rebel sst  \n",
       "4     1.0                ford torino  "
      ]
     },
     "execution_count": 2,
     "metadata": {},
     "output_type": "execute_result"
    }
   ],
   "source": [
    "data = pd.read_csv(\"http://archive.ics.uci.edu/ml/machine-learning-databases/auto-mpg/auto-mpg.data-original\",\n",
    "                   delim_whitespace = True, header=None,\n",
    "                   names = ['mpg', 'cylinders', 'displacement', 'horsepower', 'weight', 'acceleration',\n",
    "                            'model', 'origin', 'car_name'])\n",
    "print(data.shape)\n",
    "data.head()"
   ]
  },
  {
   "cell_type": "markdown",
   "metadata": {},
   "source": [
    "Hay 406 registros con 9 variables.\n",
    "Vamos a analizar si hay problemas de datos con respecto a valores faltantes y outliers"
   ]
  },
  {
   "cell_type": "code",
   "execution_count": 3,
   "metadata": {},
   "outputs": [
    {
     "data": {
      "text/html": [
       "<div>\n",
       "<style scoped>\n",
       "    .dataframe tbody tr th:only-of-type {\n",
       "        vertical-align: middle;\n",
       "    }\n",
       "\n",
       "    .dataframe tbody tr th {\n",
       "        vertical-align: top;\n",
       "    }\n",
       "\n",
       "    .dataframe thead th {\n",
       "        text-align: right;\n",
       "    }\n",
       "</style>\n",
       "<table border=\"1\" class=\"dataframe\">\n",
       "  <thead>\n",
       "    <tr style=\"text-align: right;\">\n",
       "      <th></th>\n",
       "      <th>count</th>\n",
       "      <th>mean</th>\n",
       "      <th>std</th>\n",
       "      <th>min</th>\n",
       "      <th>25%</th>\n",
       "      <th>50%</th>\n",
       "      <th>75%</th>\n",
       "      <th>max</th>\n",
       "    </tr>\n",
       "  </thead>\n",
       "  <tbody>\n",
       "    <tr>\n",
       "      <th>mpg</th>\n",
       "      <td>398.0</td>\n",
       "      <td>23.514573</td>\n",
       "      <td>7.815984</td>\n",
       "      <td>9.0</td>\n",
       "      <td>17.50</td>\n",
       "      <td>23.0</td>\n",
       "      <td>29.000</td>\n",
       "      <td>46.6</td>\n",
       "    </tr>\n",
       "    <tr>\n",
       "      <th>cylinders</th>\n",
       "      <td>406.0</td>\n",
       "      <td>5.475369</td>\n",
       "      <td>1.712160</td>\n",
       "      <td>3.0</td>\n",
       "      <td>4.00</td>\n",
       "      <td>4.0</td>\n",
       "      <td>8.000</td>\n",
       "      <td>8.0</td>\n",
       "    </tr>\n",
       "    <tr>\n",
       "      <th>displacement</th>\n",
       "      <td>406.0</td>\n",
       "      <td>194.779557</td>\n",
       "      <td>104.922458</td>\n",
       "      <td>68.0</td>\n",
       "      <td>105.00</td>\n",
       "      <td>151.0</td>\n",
       "      <td>302.000</td>\n",
       "      <td>455.0</td>\n",
       "    </tr>\n",
       "    <tr>\n",
       "      <th>horsepower</th>\n",
       "      <td>400.0</td>\n",
       "      <td>105.082500</td>\n",
       "      <td>38.768779</td>\n",
       "      <td>46.0</td>\n",
       "      <td>75.75</td>\n",
       "      <td>95.0</td>\n",
       "      <td>130.000</td>\n",
       "      <td>230.0</td>\n",
       "    </tr>\n",
       "    <tr>\n",
       "      <th>weight</th>\n",
       "      <td>406.0</td>\n",
       "      <td>2979.413793</td>\n",
       "      <td>847.004328</td>\n",
       "      <td>1613.0</td>\n",
       "      <td>2226.50</td>\n",
       "      <td>2822.5</td>\n",
       "      <td>3618.250</td>\n",
       "      <td>5140.0</td>\n",
       "    </tr>\n",
       "    <tr>\n",
       "      <th>acceleration</th>\n",
       "      <td>406.0</td>\n",
       "      <td>15.519704</td>\n",
       "      <td>2.803359</td>\n",
       "      <td>8.0</td>\n",
       "      <td>13.70</td>\n",
       "      <td>15.5</td>\n",
       "      <td>17.175</td>\n",
       "      <td>24.8</td>\n",
       "    </tr>\n",
       "    <tr>\n",
       "      <th>model</th>\n",
       "      <td>406.0</td>\n",
       "      <td>75.921182</td>\n",
       "      <td>3.748737</td>\n",
       "      <td>70.0</td>\n",
       "      <td>73.00</td>\n",
       "      <td>76.0</td>\n",
       "      <td>79.000</td>\n",
       "      <td>82.0</td>\n",
       "    </tr>\n",
       "    <tr>\n",
       "      <th>origin</th>\n",
       "      <td>406.0</td>\n",
       "      <td>1.568966</td>\n",
       "      <td>0.797479</td>\n",
       "      <td>1.0</td>\n",
       "      <td>1.00</td>\n",
       "      <td>1.0</td>\n",
       "      <td>2.000</td>\n",
       "      <td>3.0</td>\n",
       "    </tr>\n",
       "  </tbody>\n",
       "</table>\n",
       "</div>"
      ],
      "text/plain": [
       "              count         mean         std     min      25%     50%  \\\n",
       "mpg           398.0    23.514573    7.815984     9.0    17.50    23.0   \n",
       "cylinders     406.0     5.475369    1.712160     3.0     4.00     4.0   \n",
       "displacement  406.0   194.779557  104.922458    68.0   105.00   151.0   \n",
       "horsepower    400.0   105.082500   38.768779    46.0    75.75    95.0   \n",
       "weight        406.0  2979.413793  847.004328  1613.0  2226.50  2822.5   \n",
       "acceleration  406.0    15.519704    2.803359     8.0    13.70    15.5   \n",
       "model         406.0    75.921182    3.748737    70.0    73.00    76.0   \n",
       "origin        406.0     1.568966    0.797479     1.0     1.00     1.0   \n",
       "\n",
       "                   75%     max  \n",
       "mpg             29.000    46.6  \n",
       "cylinders        8.000     8.0  \n",
       "displacement   302.000   455.0  \n",
       "horsepower     130.000   230.0  \n",
       "weight        3618.250  5140.0  \n",
       "acceleration    17.175    24.8  \n",
       "model           79.000    82.0  \n",
       "origin           2.000     3.0  "
      ]
     },
     "execution_count": 3,
     "metadata": {},
     "output_type": "execute_result"
    }
   ],
   "source": [
    "data.describe().transpose()"
   ]
  },
  {
   "cell_type": "markdown",
   "metadata": {},
   "source": [
    "Al parecer a primera vista no hay outliers, pero si hay valores faltantes (columna count no es de 406 para todas las variables).\n",
    "\n",
    "Además podemos ver que las escalas de las variables son bastante disparejas, con los valores de peso que van de 1600 a 5100, y los de los cilindros de 3 a 8. Es necesario reescalar los datos para otorgarle la misma importancia a cada variable dentro del modelo."
   ]
  },
  {
   "cell_type": "markdown",
   "metadata": {},
   "source": [
    "### Vamos a ver que variables tienen valores faltantes"
   ]
  },
  {
   "cell_type": "code",
   "execution_count": 4,
   "metadata": {},
   "outputs": [
    {
     "name": "stdout",
     "output_type": "stream",
     "text": [
      "<class 'pandas.core.frame.DataFrame'>\n",
      "RangeIndex: 406 entries, 0 to 405\n",
      "Data columns (total 9 columns):\n",
      "mpg             398 non-null float64\n",
      "cylinders       406 non-null float64\n",
      "displacement    406 non-null float64\n",
      "horsepower      400 non-null float64\n",
      "weight          406 non-null float64\n",
      "acceleration    406 non-null float64\n",
      "model           406 non-null float64\n",
      "origin          406 non-null float64\n",
      "car_name        406 non-null object\n",
      "dtypes: float64(8), object(1)\n",
      "memory usage: 28.6+ KB\n"
     ]
    }
   ],
   "source": [
    "data.info()"
   ]
  },
  {
   "cell_type": "code",
   "execution_count": 5,
   "metadata": {},
   "outputs": [
    {
     "name": "stdout",
     "output_type": "stream",
     "text": [
      "mpg              True\n",
      "cylinders       False\n",
      "displacement    False\n",
      "horsepower       True\n",
      "weight          False\n",
      "acceleration    False\n",
      "model           False\n",
      "origin          False\n",
      "car_name        False\n",
      "dtype: bool\n",
      "Las columnas que tienen valores faltantes son:  [0 3]\n",
      "y corresponden a:  Index(['mpg', 'horsepower'], dtype='object')\n"
     ]
    }
   ],
   "source": [
    "print(pd.isnull(data).any(0)) #el 0 implica cualquier columna, si quisieramos las filas utilizamos 1\n",
    "print(\"Las columnas que tienen valores faltantes son: \",pd.isnull(data).any(0).nonzero()[0])\n",
    "print(\"y corresponden a: \", data.columns[pd.isnull(data).any(0).nonzero()[0]])"
   ]
  },
  {
   "cell_type": "markdown",
   "metadata": {},
   "source": [
    "Tanto mpg como horsepower tienen valores faltantes, pero no son muchos.\n",
    "Hay al menos 8 registros con valores faltantes.\n",
    "\n",
    "Podemos encontrar los índices de las filas con los valores faltantes y eliminarlos del dataset.\n",
    "También podemos directamente eliminarlos con un comando de pandas.\n",
    "Vamos a hacer las dos operaciones.\n",
    "\n",
    "Encontramos entonces los índices con registros incompletos."
   ]
  },
  {
   "cell_type": "code",
   "execution_count": 6,
   "metadata": {},
   "outputs": [
    {
     "name": "stdout",
     "output_type": "stream",
     "text": [
      "Hay 14 registros incompletos:  [ 10  11  12  13  14  17  38  39 133 337 343 361 367 382]\n"
     ]
    }
   ],
   "source": [
    "indices = pd.isnull(data).any(1).nonzero()[0]\n",
    "print(\"Hay {} registros incompletos: \".format(len(indices)), indices)"
   ]
  },
  {
   "cell_type": "code",
   "execution_count": 7,
   "metadata": {},
   "outputs": [
    {
     "name": "stdout",
     "output_type": "stream",
     "text": [
      "Datos originales:  (406, 9)\n",
      "Datos limpios y completos:  (392, 9)\n",
      "Se eliminaron 14 registos\n"
     ]
    }
   ],
   "source": [
    "data2 = data.drop(indices)\n",
    "print(\"Datos originales: \", data.shape)\n",
    "print(\"Datos limpios y completos: \", data2.shape)\n",
    "print(\"Se eliminaron {} registos\".format(data.shape[0] - data2.shape[0]))"
   ]
  },
  {
   "cell_type": "markdown",
   "metadata": {},
   "source": [
    "También lo podemos hacer directamente con **dropna**"
   ]
  },
  {
   "cell_type": "code",
   "execution_count": 8,
   "metadata": {},
   "outputs": [
    {
     "name": "stdout",
     "output_type": "stream",
     "text": [
      "Datos originales:  (406, 9)\n",
      "Datos limpios y completos:  (392, 9)\n",
      "Se eliminaron 14 registos\n"
     ]
    }
   ],
   "source": [
    "data2 = data.dropna()\n",
    "print(\"Datos originales: \", data.shape)\n",
    "print(\"Datos limpios y completos: \", data2.shape)\n",
    "print(\"Se eliminaron {} registos\".format(data.shape[0] - data2.shape[0]))"
   ]
  },
  {
   "cell_type": "code",
   "execution_count": 9,
   "metadata": {},
   "outputs": [],
   "source": [
    "data = data2"
   ]
  },
  {
   "cell_type": "markdown",
   "metadata": {},
   "source": [
    "## Aprendizaje del modelo de regresión"
   ]
  },
  {
   "cell_type": "markdown",
   "metadata": {},
   "source": [
    "Vamos a ignorar por ahora el hecho de que las variables no siguen la misma escala. Más adelante nos ocuparemos de ese problema."
   ]
  },
  {
   "cell_type": "markdown",
   "metadata": {},
   "source": [
    "Vamos a crear un modelo de regresión lineal que permita obtener *mpg* a partir de algunas (5 de ellas) de las demás variables independientes del dataset"
   ]
  },
  {
   "cell_type": "code",
   "execution_count": 10,
   "metadata": {},
   "outputs": [],
   "source": [
    "indep_vars = ['cylinders', 'displacement', 'horsepower', 'weight', 'acceleration']\n",
    "dep_vars = ['mpg']"
   ]
  },
  {
   "cell_type": "code",
   "execution_count": 11,
   "metadata": {},
   "outputs": [],
   "source": [
    "indep_data = data[indep_vars]\n",
    "dep_data = data[dep_vars]"
   ]
  },
  {
   "cell_type": "markdown",
   "metadata": {},
   "source": [
    "Tenemos un dataframe con los datos de las variables independientes y otro con los de la variable dependiente.\n",
    "\n",
    "Vamos ahora a partir cada dataframe en 2 de manera aleatoria: 67% de los datos se utilizarán para aprender el modelo, y 33 para evaluarlo."
   ]
  },
  {
   "cell_type": "code",
   "execution_count": 12,
   "metadata": {},
   "outputs": [],
   "source": [
    "train_x, test_x, train_y, test_y = train_test_split(indep_data, dep_data, test_size=0.33, random_state=42)"
   ]
  },
  {
   "cell_type": "code",
   "execution_count": 13,
   "metadata": {},
   "outputs": [
    {
     "name": "stdout",
     "output_type": "stream",
     "text": [
      "(262, 5)\n",
      "(262, 1)\n",
      "(130, 5)\n",
      "(130, 1)\n"
     ]
    }
   ],
   "source": [
    "print(train_x.shape)\n",
    "print(train_y.shape)\n",
    "print(test_x.shape)\n",
    "print(test_y.shape)"
   ]
  },
  {
   "cell_type": "markdown",
   "metadata": {},
   "source": [
    "Ya tenemos todos los datos preparados para lanzar el modelo de regresión lineal a partir de los datos de entrenamiento.\n",
    "Lanzamos el método **fit** que se encarga de encontrar la mejor línea de ajuste, y consultamos los diferentes coeficientes encontrados para las variables independientes."
   ]
  },
  {
   "cell_type": "code",
   "execution_count": 14,
   "metadata": {},
   "outputs": [
    {
     "data": {
      "text/plain": [
       "LinearRegression(copy_X=True, fit_intercept=True, n_jobs=None, normalize=True)"
      ]
     },
     "execution_count": 14,
     "metadata": {},
     "output_type": "execute_result"
    }
   ],
   "source": [
    "regr = linear_model.LinearRegression(normalize=True)\n",
    "regr.fit(train_x, train_y)"
   ]
  },
  {
   "cell_type": "markdown",
   "metadata": {},
   "source": [
    "Se estableció que se va a utilizar un modelo de regresión lineal, que por defecto incluye un coeficiente para la intercepción con la ordenada en el origen, y especificamos que deseamos normalizar los datos de las variables predictivas."
   ]
  },
  {
   "cell_type": "code",
   "execution_count": 15,
   "metadata": {},
   "outputs": [
    {
     "name": "stdout",
     "output_type": "stream",
     "text": [
      "cylinders: -0.2622622212088985\n",
      "displacement: -0.001956299665368273\n",
      "horsepower: -0.05984964007927196\n",
      "weight: -0.004940174279273555\n",
      "acceleration: 0.004033488575202949\n",
      "intercepción: 46.532369302492924\n"
     ]
    }
   ],
   "source": [
    "for var, coef in zip(indep_vars, np.squeeze(regr.coef_)):\n",
    "    print(\"{}: {}\".format(var, coef))\n",
    "print(\"intercepción: {}\".format(np.squeeze(regr.intercept_)))"
   ]
  },
  {
   "cell_type": "markdown",
   "metadata": {},
   "source": [
    "## Predicción"
   ]
  },
  {
   "cell_type": "markdown",
   "metadata": {},
   "source": [
    "Vamos a predecir la variable dependiente ajustada según el modelo para los datos de entrenamiento y para los datos de test"
   ]
  },
  {
   "cell_type": "code",
   "execution_count": 16,
   "metadata": {},
   "outputs": [
    {
     "name": "stdout",
     "output_type": "stream",
     "text": [
      "(262, 1)\n",
      "(130, 1)\n"
     ]
    }
   ],
   "source": [
    "train_y_pred = regr.predict(train_x)\n",
    "test_y_pred = regr.predict(test_x)\n",
    "print(train_y_pred.shape)\n",
    "print(test_y_pred.shape)"
   ]
  },
  {
   "cell_type": "markdown",
   "metadata": {},
   "source": [
    "Veamos como nos va con las métricas de bondad de ajuste"
   ]
  },
  {
   "cell_type": "code",
   "execution_count": 17,
   "metadata": {},
   "outputs": [
    {
     "name": "stdout",
     "output_type": "stream",
     "text": [
      "MSE (train): 17.3145\n",
      "MSE (test) : 19.7149\n",
      "R2  (train): 0.7323\n",
      "R2  (test) : 0.6267\n"
     ]
    }
   ],
   "source": [
    "print(\"MSE (train): %.4f\" % mean_squared_error(train_y, train_y_pred))\n",
    "print(\"MSE (test) : %.4f\" % mean_squared_error(test_y, test_y_pred))\n",
    "print('R2  (train): %.4f' % r2_score(train_y, train_y_pred))\n",
    "print('R2  (test) : %.4f' % r2_score(test_y, test_y_pred))"
   ]
  },
  {
   "cell_type": "markdown",
   "metadata": {},
   "source": [
    "Encontramos que la predicción con los datos de entrenamiento nos da mejores resultados que con los datos de aprendizaje: por un lado el MSE es menor y por otro lado el R2 es mayor con el training set.\n",
    "\n",
    "Esto muestra que utilizar el mismo set de datos con el que se entrenó al modelo para evaluarlo causa una subestimación del error del modelo."
   ]
  },
  {
   "cell_type": "markdown",
   "metadata": {},
   "source": [
    "scikit-learn no ofrece el cálculo del R2 ajustado (viva Python!), por lo que lo calculamos a mano:"
   ]
  },
  {
   "cell_type": "code",
   "execution_count": 18,
   "metadata": {},
   "outputs": [
    {
     "name": "stdout",
     "output_type": "stream",
     "text": [
      "R2 adj (train): 0.7270\n",
      "R2 adj (train): 0.6116\n"
     ]
    }
   ],
   "source": [
    "r2_aj_train = 1 - (1-r2_score(train_y, train_y_pred))*(len(train_y)-1) / (len(train_y) - train_x.shape[1] - 1)\n",
    "print('R2 adj (train): %.4f' %r2_aj_train)\n",
    "r2_aj_test = 1 - (1-r2_score(test_y, test_y_pred))*(len(test_y)-1) / (len(test_y) - test_x.shape[1] - 1)\n",
    "print('R2 adj (train): %.4f' %r2_aj_test)"
   ]
  },
  {
   "cell_type": "markdown",
   "metadata": {},
   "source": [
    "El valor del R2 ajustado corrige el valor del R2 con respecto a la complejidad dada por el número de variables independientes utilizadas, y permite comparar modelos de diferente número de predictores."
   ]
  },
  {
   "cell_type": "markdown",
   "metadata": {},
   "source": [
    "## Análisis de los coeficientes "
   ]
  },
  {
   "cell_type": "code",
   "execution_count": 19,
   "metadata": {},
   "outputs": [
    {
     "data": {
      "text/plain": [
       "['cylinders', 'displacement', 'horsepower', 'weight', 'acceleration']"
      ]
     },
     "execution_count": 19,
     "metadata": {},
     "output_type": "execute_result"
    }
   ],
   "source": [
    "indep_vars"
   ]
  },
  {
   "cell_type": "markdown",
   "metadata": {},
   "source": [
    "Para poder establecer la significancia de los coeficientes, es necesario realizar pruebas de hipótesis de los coeficientes de cada variable predictiva, comparándolos contra 0.\n",
    "\n",
    "El problema es que **scikit-learn** no realiza estas pruebas, y no incluye muchas de las métricas (como el R2 ajustado), y hay que utilizar el package **statsmodel** (viva Python!).\n"
   ]
  },
  {
   "cell_type": "markdown",
   "metadata": {},
   "source": [
    "Este proceso es bastante complicado, por lo que es a veces mejor conocer cómo obtener los valores p directamente, por lo que usamos el package **statsmodels**. Este paquete requiere adicionar una constante inicial a los datos predictores (correspondiente al valor del intercepto)."
   ]
  },
  {
   "cell_type": "code",
   "execution_count": 20,
   "metadata": {},
   "outputs": [
    {
     "name": "stdout",
     "output_type": "stream",
     "text": [
      "     const  cylinders  displacement  horsepower  weight  acceleration\n",
      "376    1.0        4.0         112.0        88.0  2640.0          18.6\n",
      "189    1.0        4.0         107.0        86.0  2464.0          15.5\n",
      "127    1.0        4.0         121.0       112.0  2868.0          15.5\n",
      "316    1.0        4.0          98.0        76.0  2144.0          14.7\n",
      "228    1.0        8.0         305.0       145.0  3880.0          12.5\n"
     ]
    }
   ],
   "source": [
    "train_x2 = sm.add_constant(train_x)\n",
    "print(train_x2.head())"
   ]
  },
  {
   "cell_type": "code",
   "execution_count": 21,
   "metadata": {},
   "outputs": [
    {
     "data": {
      "text/html": [
       "<table class=\"simpletable\">\n",
       "<caption>OLS Regression Results</caption>\n",
       "<tr>\n",
       "  <th>Dep. Variable:</th>           <td>mpg</td>       <th>  R-squared:         </th> <td>   0.732</td>\n",
       "</tr>\n",
       "<tr>\n",
       "  <th>Model:</th>                   <td>OLS</td>       <th>  Adj. R-squared:    </th> <td>   0.727</td>\n",
       "</tr>\n",
       "<tr>\n",
       "  <th>Method:</th>             <td>Least Squares</td>  <th>  F-statistic:       </th> <td>   140.0</td>\n",
       "</tr>\n",
       "<tr>\n",
       "  <th>Date:</th>             <td>Tue, 10 Sep 2019</td> <th>  Prob (F-statistic):</th> <td>3.89e-71</td>\n",
       "</tr>\n",
       "<tr>\n",
       "  <th>Time:</th>                 <td>15:02:52</td>     <th>  Log-Likelihood:    </th> <td> -745.31</td>\n",
       "</tr>\n",
       "<tr>\n",
       "  <th>No. Observations:</th>      <td>   262</td>      <th>  AIC:               </th> <td>   1503.</td>\n",
       "</tr>\n",
       "<tr>\n",
       "  <th>Df Residuals:</th>          <td>   256</td>      <th>  BIC:               </th> <td>   1524.</td>\n",
       "</tr>\n",
       "<tr>\n",
       "  <th>Df Model:</th>              <td>     5</td>      <th>                     </th>     <td> </td>   \n",
       "</tr>\n",
       "<tr>\n",
       "  <th>Covariance Type:</th>      <td>nonrobust</td>    <th>                     </th>     <td> </td>   \n",
       "</tr>\n",
       "</table>\n",
       "<table class=\"simpletable\">\n",
       "<tr>\n",
       "        <td></td>          <th>coef</th>     <th>std err</th>      <th>t</th>      <th>P>|t|</th>  <th>[0.025</th>    <th>0.975]</th>  \n",
       "</tr>\n",
       "<tr>\n",
       "  <th>const</th>        <td>   46.5324</td> <td>    3.165</td> <td>   14.703</td> <td> 0.000</td> <td>   40.300</td> <td>   52.765</td>\n",
       "</tr>\n",
       "<tr>\n",
       "  <th>cylinders</th>    <td>   -0.2623</td> <td>    0.509</td> <td>   -0.515</td> <td> 0.607</td> <td>   -1.265</td> <td>    0.741</td>\n",
       "</tr>\n",
       "<tr>\n",
       "  <th>displacement</th> <td>   -0.0020</td> <td>    0.011</td> <td>   -0.176</td> <td> 0.860</td> <td>   -0.024</td> <td>    0.020</td>\n",
       "</tr>\n",
       "<tr>\n",
       "  <th>horsepower</th>   <td>   -0.0598</td> <td>    0.020</td> <td>   -3.057</td> <td> 0.002</td> <td>   -0.098</td> <td>   -0.021</td>\n",
       "</tr>\n",
       "<tr>\n",
       "  <th>weight</th>       <td>   -0.0049</td> <td>    0.001</td> <td>   -5.150</td> <td> 0.000</td> <td>   -0.007</td> <td>   -0.003</td>\n",
       "</tr>\n",
       "<tr>\n",
       "  <th>acceleration</th> <td>    0.0040</td> <td>    0.148</td> <td>    0.027</td> <td> 0.978</td> <td>   -0.287</td> <td>    0.295</td>\n",
       "</tr>\n",
       "</table>\n",
       "<table class=\"simpletable\">\n",
       "<tr>\n",
       "  <th>Omnibus:</th>       <td>28.170</td> <th>  Durbin-Watson:     </th> <td>   2.162</td>\n",
       "</tr>\n",
       "<tr>\n",
       "  <th>Prob(Omnibus):</th> <td> 0.000</td> <th>  Jarque-Bera (JB):  </th> <td>  37.303</td>\n",
       "</tr>\n",
       "<tr>\n",
       "  <th>Skew:</th>          <td> 0.733</td> <th>  Prob(JB):          </th> <td>7.94e-09</td>\n",
       "</tr>\n",
       "<tr>\n",
       "  <th>Kurtosis:</th>      <td> 4.126</td> <th>  Cond. No.          </th> <td>3.82e+04</td>\n",
       "</tr>\n",
       "</table><br/><br/>Warnings:<br/>[1] Standard Errors assume that the covariance matrix of the errors is correctly specified.<br/>[2] The condition number is large, 3.82e+04. This might indicate that there are<br/>strong multicollinearity or other numerical problems."
      ],
      "text/plain": [
       "<class 'statsmodels.iolib.summary.Summary'>\n",
       "\"\"\"\n",
       "                            OLS Regression Results                            \n",
       "==============================================================================\n",
       "Dep. Variable:                    mpg   R-squared:                       0.732\n",
       "Model:                            OLS   Adj. R-squared:                  0.727\n",
       "Method:                 Least Squares   F-statistic:                     140.0\n",
       "Date:                Tue, 10 Sep 2019   Prob (F-statistic):           3.89e-71\n",
       "Time:                        15:02:52   Log-Likelihood:                -745.31\n",
       "No. Observations:                 262   AIC:                             1503.\n",
       "Df Residuals:                     256   BIC:                             1524.\n",
       "Df Model:                           5                                         \n",
       "Covariance Type:            nonrobust                                         \n",
       "================================================================================\n",
       "                   coef    std err          t      P>|t|      [0.025      0.975]\n",
       "--------------------------------------------------------------------------------\n",
       "const           46.5324      3.165     14.703      0.000      40.300      52.765\n",
       "cylinders       -0.2623      0.509     -0.515      0.607      -1.265       0.741\n",
       "displacement    -0.0020      0.011     -0.176      0.860      -0.024       0.020\n",
       "horsepower      -0.0598      0.020     -3.057      0.002      -0.098      -0.021\n",
       "weight          -0.0049      0.001     -5.150      0.000      -0.007      -0.003\n",
       "acceleration     0.0040      0.148      0.027      0.978      -0.287       0.295\n",
       "==============================================================================\n",
       "Omnibus:                       28.170   Durbin-Watson:                   2.162\n",
       "Prob(Omnibus):                  0.000   Jarque-Bera (JB):               37.303\n",
       "Skew:                           0.733   Prob(JB):                     7.94e-09\n",
       "Kurtosis:                       4.126   Cond. No.                     3.82e+04\n",
       "==============================================================================\n",
       "\n",
       "Warnings:\n",
       "[1] Standard Errors assume that the covariance matrix of the errors is correctly specified.\n",
       "[2] The condition number is large, 3.82e+04. This might indicate that there are\n",
       "strong multicollinearity or other numerical problems.\n",
       "\"\"\""
      ]
     },
     "execution_count": 21,
     "metadata": {},
     "output_type": "execute_result"
    }
   ],
   "source": [
    "modeloStats = sm.OLS(train_y, train_x2)\n",
    "results = modeloStats.fit();\n",
    "#Consultamos la calidad del modelo a partir de sus estadísticas\n",
    "results.summary()"
   ]
  },
  {
   "cell_type": "markdown",
   "metadata": {},
   "source": [
    "Encontramos que los parámetros cylinders, displacement y acceleration (t>0.5) no son para nada significativos en el modelo.\n",
    "\n",
    "También podemos ver que puede que haya problemas de multicolinearidad, como lo establece la 2a advertencia. Vamos a analizar la correlación entre las variables incluidas en el modelo."
   ]
  },
  {
   "cell_type": "code",
   "execution_count": 22,
   "metadata": {},
   "outputs": [
    {
     "data": {
      "text/html": [
       "<div>\n",
       "<style scoped>\n",
       "    .dataframe tbody tr th:only-of-type {\n",
       "        vertical-align: middle;\n",
       "    }\n",
       "\n",
       "    .dataframe tbody tr th {\n",
       "        vertical-align: top;\n",
       "    }\n",
       "\n",
       "    .dataframe thead th {\n",
       "        text-align: right;\n",
       "    }\n",
       "</style>\n",
       "<table border=\"1\" class=\"dataframe\">\n",
       "  <thead>\n",
       "    <tr style=\"text-align: right;\">\n",
       "      <th></th>\n",
       "      <th>cylinders</th>\n",
       "      <th>displacement</th>\n",
       "      <th>horsepower</th>\n",
       "      <th>weight</th>\n",
       "      <th>acceleration</th>\n",
       "      <th>mpg</th>\n",
       "    </tr>\n",
       "  </thead>\n",
       "  <tbody>\n",
       "    <tr>\n",
       "      <th>cylinders</th>\n",
       "      <td>1.000000</td>\n",
       "      <td>0.955308</td>\n",
       "      <td>0.853370</td>\n",
       "      <td>0.894257</td>\n",
       "      <td>-0.528679</td>\n",
       "      <td>-0.790598</td>\n",
       "    </tr>\n",
       "    <tr>\n",
       "      <th>displacement</th>\n",
       "      <td>0.955308</td>\n",
       "      <td>1.000000</td>\n",
       "      <td>0.893969</td>\n",
       "      <td>0.929472</td>\n",
       "      <td>-0.556061</td>\n",
       "      <td>-0.819177</td>\n",
       "    </tr>\n",
       "    <tr>\n",
       "      <th>horsepower</th>\n",
       "      <td>0.853370</td>\n",
       "      <td>0.893969</td>\n",
       "      <td>1.000000</td>\n",
       "      <td>0.855623</td>\n",
       "      <td>-0.698691</td>\n",
       "      <td>-0.802900</td>\n",
       "    </tr>\n",
       "    <tr>\n",
       "      <th>weight</th>\n",
       "      <td>0.894257</td>\n",
       "      <td>0.929472</td>\n",
       "      <td>0.855623</td>\n",
       "      <td>1.000000</td>\n",
       "      <td>-0.420763</td>\n",
       "      <td>-0.839409</td>\n",
       "    </tr>\n",
       "    <tr>\n",
       "      <th>acceleration</th>\n",
       "      <td>-0.528679</td>\n",
       "      <td>-0.556061</td>\n",
       "      <td>-0.698691</td>\n",
       "      <td>-0.420763</td>\n",
       "      <td>1.000000</td>\n",
       "      <td>0.464144</td>\n",
       "    </tr>\n",
       "    <tr>\n",
       "      <th>mpg</th>\n",
       "      <td>-0.790598</td>\n",
       "      <td>-0.819177</td>\n",
       "      <td>-0.802900</td>\n",
       "      <td>-0.839409</td>\n",
       "      <td>0.464144</td>\n",
       "      <td>1.000000</td>\n",
       "    </tr>\n",
       "  </tbody>\n",
       "</table>\n",
       "</div>"
      ],
      "text/plain": [
       "              cylinders  displacement  horsepower    weight  acceleration  \\\n",
       "cylinders      1.000000      0.955308    0.853370  0.894257     -0.528679   \n",
       "displacement   0.955308      1.000000    0.893969  0.929472     -0.556061   \n",
       "horsepower     0.853370      0.893969    1.000000  0.855623     -0.698691   \n",
       "weight         0.894257      0.929472    0.855623  1.000000     -0.420763   \n",
       "acceleration  -0.528679     -0.556061   -0.698691 -0.420763      1.000000   \n",
       "mpg           -0.790598     -0.819177   -0.802900 -0.839409      0.464144   \n",
       "\n",
       "                   mpg  \n",
       "cylinders    -0.790598  \n",
       "displacement -0.819177  \n",
       "horsepower   -0.802900  \n",
       "weight       -0.839409  \n",
       "acceleration  0.464144  \n",
       "mpg           1.000000  "
      ]
     },
     "execution_count": 22,
     "metadata": {},
     "output_type": "execute_result"
    }
   ],
   "source": [
    "# Calculamos la matriz de correlaciones\n",
    "corr = train_x.join(train_y).corr()\n",
    "corr"
   ]
  },
  {
   "cell_type": "code",
   "execution_count": 23,
   "metadata": {},
   "outputs": [
    {
     "data": {
      "text/plain": [
       "<matplotlib.axes._subplots.AxesSubplot at 0x7ff5b4145588>"
      ]
     },
     "execution_count": 23,
     "metadata": {},
     "output_type": "execute_result"
    },
    {
     "data": {
      "image/png": "[encoded data removed]",
      "text/plain": [
       "<Figure size 792x648 with 2 Axes>"
      ]
     },
     "metadata": {
      "needs_background": "light"
     },
     "output_type": "display_data"
    }
   ],
   "source": [
    "## Set up the matplotlib figure\n",
    "f, ax = plt.subplots(figsize=(11, 9))\n",
    "\n",
    "# Generate a custom diverging colormap\n",
    "cmap = sns.diverging_palette(220, 10, as_cmap=True)\n",
    "\n",
    "sns.heatmap(corr, cmap=cmap, vmax=.3, center=0,\n",
    "            square=True, linewidths=.5, cbar_kws={\"shrink\": .5})"
   ]
  },
  {
   "cell_type": "markdown",
   "metadata": {},
   "source": [
    "Encontramos que *aceleration* está bastante correlacionada con las primeras cuatro variables independientes. Podríamos eliminarla y correr el modelo otra vez, pero vamos a preferir seguir un proceso más organizado de forward stepwise."
   ]
  },
  {
   "cell_type": "markdown",
   "metadata": {},
   "source": [
    "## Escogencia de variables usando forward stepwise"
   ]
  },
  {
   "cell_type": "markdown",
   "metadata": {},
   "source": [
    "Empezamos por escoger como primera variable *weight*, pues es la que tiene la correlación más importante con *mpg*."
   ]
  },
  {
   "cell_type": "code",
   "execution_count": 24,
   "metadata": {},
   "outputs": [
    {
     "name": "stdout",
     "output_type": "stream",
     "text": [
      "0.7034711364975179\n"
     ]
    }
   ],
   "source": [
    "train_x2 = train_x[['weight']]\n",
    "train_x2 = sm.add_constant(train_x2)\n",
    "modeloStats = sm.OLS(train_y, train_x2)\n",
    "results = modeloStats.fit();\n",
    "print(results.rsquared_adj)"
   ]
  },
  {
   "cell_type": "markdown",
   "metadata": {},
   "source": [
    "Partimos entonces de un modelo que solo incluyendo la variable *weight* obtiene un R2 ajustado de 0.703. Vamos a continuar la búsqueda del mejor modelo siguiendo el heurístico de forward stepwise.\n",
    "\n",
    "**<span style=\"color:red\">Taller:</span>** \n",
    "<span style=\"color:red\">Buscar un mejor modelo intentando diferentes combinaciones de variables predictivas:</span>\n",
    "- <span style=\"color:red\">Utilizar el R2 Ajustado como criterio de evaluación.</span>\n",
    "- <span style=\"color:red\">Agregar las variables predictivas que mejor explican la variable dependiente MPG de manera iterativa utilizando la técnica de **forward stepwise** regression.</span>"
   ]
  },
  {
   "cell_type": "code",
   "execution_count": null,
   "metadata": {},
   "outputs": [],
   "source": [
    "...\n",
    "...\n",
    "...\n",
    "... TODO\n",
    "...\n",
    "..."
   ]
  },
  {
   "cell_type": "markdown",
   "metadata": {},
   "source": [
    "## Escogencia de variables usando backward stepwise"
   ]
  },
  {
   "cell_type": "markdown",
   "metadata": {},
   "source": [
    "Empezamos por escoger todas la variables para crear un modelo inicial."
   ]
  },
  {
   "cell_type": "code",
   "execution_count": null,
   "metadata": {},
   "outputs": [],
   "source": [
    "train_x3 = train_x[['weight', 'cylinders', 'displacement', 'horsepower', 'acceleration']]\n",
    "train_x3 = sm.add_constant(train_x3)\n",
    "modeloStats = sm.OLS(train_y, train_x3)\n",
    "results = modeloStats.fit();\n",
    "print(results.rsquared_adj)"
   ]
  },
  {
   "cell_type": "markdown",
   "metadata": {},
   "source": [
    "Partimos entonces de un modelo que incluye todas las variables, y que obtiene un R2 ajustado de 0.727. Vamos a continuar la búsqueda del mejor modelo siguiendo el heurístico de backward stepwise.\n",
    "\n",
    "**<span style=\"color:red\">Taller:</span>** \n",
    "<span style=\"color:red\">Buscar un mejor modelo intentando diferentes combinaciones de variables predictivas:</span>\n",
    "- <span style=\"color:red\">Utilizar el R2 Ajustado como criterio de evaluación.</span>\n",
    "- <span style=\"color:red\">Eliminar las variables predictivas que impiden obtener un mejor modelos al agregar ruido, utilizando la técnica de **backward stepwise** regression.</span>\n",
    "</span>"
   ]
  },
  {
   "cell_type": "code",
   "execution_count": null,
   "metadata": {},
   "outputs": [],
   "source": [
    "...\n",
    "...\n",
    "...\n",
    "... TODO\n",
    "...\n",
    "..."
   ]
  },
  {
   "cell_type": "markdown",
   "metadata": {},
   "source": [
    "## Regularización: Ridge"
   ]
  },
  {
   "cell_type": "markdown",
   "metadata": {},
   "source": [
    "Vamos a aplicar regularización a partir del modelo de **Ridge** regression.\n",
    "La penalización en este modelo se controla a partir del parámetro alpha en la clase **Ridge** de scikit-learn."
   ]
  },
  {
   "cell_type": "markdown",
   "metadata": {},
   "source": [
    "### Comparación del modelo de regresión lineal vs un ridge regression específico"
   ]
  },
  {
   "cell_type": "markdown",
   "metadata": {},
   "source": [
    "Vamos a volver a entrenar el modelo de regresión lineal simple las 5 variables numéricas."
   ]
  },
  {
   "cell_type": "code",
   "execution_count": 25,
   "metadata": {},
   "outputs": [
    {
     "data": {
      "text/plain": [
       "LinearRegression(copy_X=True, fit_intercept=True, n_jobs=None, normalize=True)"
      ]
     },
     "execution_count": 25,
     "metadata": {},
     "output_type": "execute_result"
    }
   ],
   "source": [
    "regr = linear_model.LinearRegression(normalize=True)\n",
    "regr.fit(train_x, train_y)"
   ]
  },
  {
   "cell_type": "code",
   "execution_count": 26,
   "metadata": {},
   "outputs": [
    {
     "name": "stdout",
     "output_type": "stream",
     "text": [
      "MSE (train): 17.3145\n",
      "MSE (test) : 19.7149\n",
      "R2  (train): 0.7323\n",
      "R2  (test) : 0.6267\n",
      "R2 adj (train): 0.7270\n",
      "R2 adj (test): 0.6116\n"
     ]
    }
   ],
   "source": [
    "train_y_pred = regr.predict(train_x)\n",
    "test_y_pred = regr.predict(test_x)\n",
    "train_y_pred[0:5]\n",
    "print(\"MSE (train): %.4f\" % mean_squared_error(train_y, train_y_pred))\n",
    "print(\"MSE (test) : %.4f\" % mean_squared_error(test_y, test_y_pred))\n",
    "print('R2  (train): %.4f' % r2_score(train_y, train_y_pred))\n",
    "print('R2  (test) : %.4f' % r2_score(test_y, test_y_pred))\n",
    "r2_aj_train = 1 - (1-r2_score(train_y, train_y_pred))*(len(train_y)-1) / (len(train_y) - train_x.shape[1] - 1)\n",
    "print('R2 adj (train): %.4f' %r2_aj_train)\n",
    "r2_aj_test = 1 - (1-r2_score(test_y, test_y_pred))*(len(test_y)-1) / (len(test_y) - test_x.shape[1] - 1)\n",
    "print('R2 adj (test): %.4f' %r2_aj_test)"
   ]
  },
  {
   "cell_type": "markdown",
   "metadata": {},
   "source": [
    "Ahora vamos a lanzar una regresión Ridge con un valor cualquiera de alpha (0.1)."
   ]
  },
  {
   "cell_type": "code",
   "execution_count": 27,
   "metadata": {},
   "outputs": [
    {
     "name": "stdout",
     "output_type": "stream",
     "text": [
      "MSE (train): 17.6003\n",
      "MSE (test) : 19.5876\n",
      "R2  (train): 0.7278\n",
      "R2  (test) : 0.6291\n",
      "R2 adj (train): 0.7225\n",
      "R2 adj (test): 0.6141\n"
     ]
    }
   ],
   "source": [
    "ridgereg = linear_model.Ridge(alpha=0.1, fit_intercept=True, normalize=True)\n",
    "ridgereg.fit(train_x, train_y)\n",
    "\n",
    "train_y_pred = ridgereg.predict(train_x)\n",
    "test_y_pred = ridgereg.predict(test_x)\n",
    "train_y_pred[0:5]\n",
    "print(\"MSE (train): %.4f\" % mean_squared_error(train_y, train_y_pred))\n",
    "print(\"MSE (test) : %.4f\" % mean_squared_error(test_y, test_y_pred))\n",
    "print('R2  (train): %.4f' % r2_score(train_y, train_y_pred))\n",
    "print('R2  (test) : %.4f' % r2_score(test_y, test_y_pred))\n",
    "r2_aj_train = 1 - (1-r2_score(train_y, train_y_pred))*(len(train_y)-1) / (len(train_y) - train_x.shape[1] - 1)\n",
    "print('R2 adj (train): %.4f' %r2_aj_train)\n",
    "r2_aj_test = 1 - (1-r2_score(test_y, test_y_pred))*(len(test_y)-1) / (len(test_y) - test_x.shape[1] - 1)\n",
    "print('R2 adj (test): %.4f' %r2_aj_test)"
   ]
  },
  {
   "cell_type": "markdown",
   "metadata": {},
   "source": [
    "Nótese como se mejora el score en el conjunto de test.\n",
    "Lo que estamos haciendo es mejorando la generalización del modelo a datos nuevos."
   ]
  },
  {
   "cell_type": "markdown",
   "metadata": {},
   "source": [
    "### Análisis de los modelos para diferentes grados de penalización"
   ]
  },
  {
   "cell_type": "markdown",
   "metadata": {},
   "source": [
    "Se va a controlar el parámetro *alpha* que controla el componente de penalización de la complejidad de los modelos de Ridge regression.\n",
    "Se crea un conjunto de valores de *alpha* siguiendo una escala logarítmica que se van a utilizar para analizar como varían los coeficientes."
   ]
  },
  {
   "cell_type": "code",
   "execution_count": 28,
   "metadata": {},
   "outputs": [
    {
     "data": {
      "text/plain": [
       "array([0.01      , 0.01035322, 0.01071891, 0.01109752, 0.01148951])"
      ]
     },
     "execution_count": 28,
     "metadata": {},
     "output_type": "execute_result"
    }
   ],
   "source": [
    "n_alphas = 200\n",
    "alphas = np.logspace(-2, 1, n_alphas)\n",
    "alphas[:5]"
   ]
  },
  {
   "cell_type": "markdown",
   "metadata": {},
   "source": [
    "Vamos a recorrer el array de valores de alpha, y vamos a aprender un modelo de Ridge para configuración, guardando en el array *coef* los coeficientes de las variables independientes de cada modelo."
   ]
  },
  {
   "cell_type": "code",
   "execution_count": 29,
   "metadata": {},
   "outputs": [],
   "source": [
    "coefs = []\n",
    "r2adj_train_vec = []\n",
    "r2adj_test_vec = []\n",
    "\n",
    "for a in alphas:\n",
    "    ridge = linear_model.Ridge(alpha=a, fit_intercept=True, normalize=True)\n",
    "    ridge.fit(train_x, train_y)\n",
    "    coefs.append(ridge.coef_)\n",
    "    train_y_pred = ridge.predict(train_x)\n",
    "    test_y_pred = ridge.predict(test_x)\n",
    "    r2_aj_train = 1 - (1-r2_score(train_y, train_y_pred))*(len(train_y)-1) / (len(train_y) - train_x.shape[1] - 1)\n",
    "    r2_aj_test = 1 - (1-r2_score(test_y, test_y_pred))*(len(test_y)-1) / (len(test_y) - test_x.shape[1] - 1)\n",
    "    r2adj_train_vec.append(r2_aj_train)\n",
    "    r2adj_test_vec.append(r2_aj_test)"
   ]
  },
  {
   "cell_type": "markdown",
   "metadata": {},
   "source": [
    "Vamos ahora a plotear los valores de las métricas con respecto al valor del alpha."
   ]
  },
  {
   "cell_type": "code",
   "execution_count": 39,
   "metadata": {},
   "outputs": [
    {
     "data": {
      "text/plain": [
       "<matplotlib.legend.Legend at 0x7ff5a11113c8>"
      ]
     },
     "execution_count": 39,
     "metadata": {},
     "output_type": "execute_result"
    },
    {
     "data": {
      "image/png": "[encoded data removed]",
      "text/plain": [
       "<Figure size 1080x504 with 1 Axes>"
      ]
     },
     "metadata": {
      "needs_background": "light"
     },
     "output_type": "display_data"
    }
   ],
   "source": [
    "plt.figure(figsize=(15,7))\n",
    "ax = plt.gca() # get current axis\n",
    "plt.plot(alphas, np.squeeze(coefs))\n",
    "ax.set_xscale('log')\n",
    "#ax.set_xlim(ax.get_xlim()[::-1])  # reverse axis -> cambiar -1 por 1 para leerlo como una persona normal\n",
    "ax.set_xlim(ax.get_xlim()[::1])\n",
    "plt.axis('tight')\n",
    "plt.xlabel('alpha')\n",
    "plt.ylabel('weights')\n",
    "plt.title('Ridge coefficients as a function of the regularization')\n",
    "plt.legend(indep_vars)"
   ]
  },
  {
   "cell_type": "markdown",
   "metadata": {},
   "source": [
    "¿Cuáles son las variables mas importantes? R// cylinders y acceleration"
   ]
  },
  {
   "cell_type": "markdown",
   "metadata": {},
   "source": [
    "Vamos ahora analizar los valores de r2 ajustado en los dataset de entrenamiento y test.\n",
    "\n",
    "Creamos un array con los valores de las dos series uno a uno para poder plotearlos al mismo tiempo."
   ]
  },
  {
   "cell_type": "code",
   "execution_count": 31,
   "metadata": {},
   "outputs": [
    {
     "name": "stdout",
     "output_type": "stream",
     "text": [
      "train:  (200, 1)\n",
      "test:  (200, 1)\n",
      "concatenación:  (200, 2)\n"
     ]
    }
   ],
   "source": [
    "t1 = np.array(r2adj_train_vec)\n",
    "t1 = t1[:, np.newaxis]\n",
    "print(\"train: \", t1.shape)\n",
    "\n",
    "t2 = np.array(r2adj_test_vec)\n",
    "t2 = t2[:, np.newaxis]\n",
    "print(\"test: \", t2.shape)\n",
    "\n",
    "r2adj_vecs = np.concatenate((t1, t2), axis=1)\n",
    "print(\"concatenación: \", r2adj_vecs.shape)"
   ]
  },
  {
   "cell_type": "code",
   "execution_count": 32,
   "metadata": {},
   "outputs": [
    {
     "data": {
      "text/plain": [
       "<matplotlib.legend.Legend at 0x7ff5a36a85f8>"
      ]
     },
     "execution_count": 32,
     "metadata": {},
     "output_type": "execute_result"
    },
    {
     "data": {
      "image/png": "[encoded data removed]",
      "text/plain": [
       "<Figure size 1296x648 with 1 Axes>"
      ]
     },
     "metadata": {
      "needs_background": "light"
     },
     "output_type": "display_data"
    }
   ],
   "source": [
    "plt.figure(figsize=(18,9))\n",
    "ax = plt.gca()\n",
    "plt.plot(alphas, r2adj_vecs)\n",
    "ax.set_xscale('log')\n",
    "ax.set_xlim(ax.get_xlim()[::-1])  # reverse axis\n",
    "plt.axis('tight')\n",
    "plt.xlabel('alpha')\n",
    "plt.ylabel('R2 ajustado')\n",
    "plt.title('R2 ajustado con respecto al alpha')\n",
    "plt.legend(['train', 'test'])"
   ]
  },
  {
   "cell_type": "markdown",
   "metadata": {},
   "source": [
    "Encontramos que para un valor de alpha por debajo de $10^0=1$, se obtiene el valor máximal de R2 ajustado para el conjunto de test.\n",
    "Vamos a utilizar CV para comparar valores de alpha cercanos. "
   ]
  },
  {
   "cell_type": "code",
   "execution_count": 33,
   "metadata": {},
   "outputs": [
    {
     "name": "stdout",
     "output_type": "stream",
     "text": [
      "El nivel máximo de R2 es 0.614798269280139, y se alcanza con un alpha de 0.24374441501222205\n"
     ]
    }
   ],
   "source": [
    "indiceMax = np.argmax(r2adj_test_vec)\n",
    "r2Max = r2adj_test_vec[indiceMax]\n",
    "alphaMax = alphas[indiceMax]\n",
    "print(\"El nivel máximo de R2 es {}, y se alcanza con un alpha de {}\".format(r2Max, alphaMax))"
   ]
  },
  {
   "cell_type": "code",
   "execution_count": 34,
   "metadata": {},
   "outputs": [
    {
     "name": "stdout",
     "output_type": "stream",
     "text": [
      "MSE (train): 18.0331\n",
      "MSE (test) : 19.5538\n",
      "R2  (train): 0.7211\n",
      "R2  (test) : 0.6297\n",
      "R2 adj (train): 0.7157\n",
      "R2 adj (test): 0.6148\n"
     ]
    }
   ],
   "source": [
    "ridgereg = linear_model.Ridge(alpha=alphaMax, normalize=True)\n",
    "ridgereg.fit(train_x, train_y)\n",
    "\n",
    "train_y_pred = ridgereg.predict(train_x)\n",
    "test_y_pred = ridgereg.predict(test_x)\n",
    "train_y_pred[0:5]\n",
    "print(\"MSE (train): %.4f\" % mean_squared_error(train_y, train_y_pred))\n",
    "print(\"MSE (test) : %.4f\" % mean_squared_error(test_y, test_y_pred))\n",
    "print('R2  (train): %.4f' % r2_score(train_y, train_y_pred))\n",
    "print('R2  (test) : %.4f' % r2_score(test_y, test_y_pred))\n",
    "r2_aj_train = 1 - (1-r2_score(train_y, train_y_pred))*(len(train_y)-1) / (len(train_y) - train_x.shape[1] - 1)\n",
    "print('R2 adj (train): %.4f' %r2_aj_train)\n",
    "r2_aj_test = 1 - (1-r2_score(test_y, test_y_pred))*(len(test_y)-1) / (len(test_y) - test_x.shape[1] - 1)\n",
    "print('R2 adj (test): %.4f' %r2_aj_test)"
   ]
  },
  {
   "cell_type": "code",
   "execution_count": 35,
   "metadata": {},
   "outputs": [
    {
     "data": {
      "text/plain": [
       "array([[-0.64070544, -0.01294795, -0.04546692, -0.00279541,  0.04896332]])"
      ]
     },
     "execution_count": 35,
     "metadata": {},
     "output_type": "execute_result"
    }
   ],
   "source": [
    "ridgereg.coef_"
   ]
  },
  {
   "cell_type": "code",
   "execution_count": 36,
   "metadata": {},
   "outputs": [
    {
     "data": {
      "text/plain": [
       "Index(['cylinders', 'displacement', 'horsepower', 'weight', 'acceleration'], dtype='object')"
      ]
     },
     "execution_count": 36,
     "metadata": {},
     "output_type": "execute_result"
    }
   ],
   "source": [
    "train_x.columns"
   ]
  },
  {
   "cell_type": "markdown",
   "metadata": {},
   "source": [
    "## Regularización: Lasso"
   ]
  },
  {
   "cell_type": "markdown",
   "metadata": {},
   "source": [
    "Vamos ahora utilizar la regularización del modelo de Lasso. Utilizamos un valor de alpha específico (1)."
   ]
  },
  {
   "cell_type": "code",
   "execution_count": 40,
   "metadata": {},
   "outputs": [
    {
     "name": "stdout",
     "output_type": "stream",
     "text": [
      "MSE (train): 20.1638\n",
      "MSE (test) : 18.7344\n",
      "R2  (train): 0.6882\n",
      "R2  (test) : 0.6452\n",
      "R2 adj (train): 0.6821\n",
      "R2 adj (test): 0.6309\n"
     ]
    }
   ],
   "source": [
    "lassoreg = linear_model.Lasso(alpha=0.1, normalize=True)\n",
    "lassoreg.fit(train_x, train_y)\n",
    "\n",
    "train_y_pred = lassoreg.predict(train_x)\n",
    "test_y_pred = lassoreg.predict(test_x)\n",
    "print(\"MSE (train): %.4f\" % mean_squared_error(train_y, train_y_pred))\n",
    "print(\"MSE (test) : %.4f\" % mean_squared_error(test_y, test_y_pred))\n",
    "print('R2  (train): %.4f' % r2_score(train_y, train_y_pred))\n",
    "print('R2  (test) : %.4f' % r2_score(test_y, test_y_pred))\n",
    "r2_aj_train = 1 - (1-r2_score(train_y, train_y_pred))*(len(train_y)-1) / (len(train_y) - train_x.shape[1] - 1)\n",
    "print('R2 adj (train): %.4f' %r2_aj_train)\n",
    "r2_aj_test = 1 - (1-r2_score(test_y, test_y_pred))*(len(test_y)-1) / (len(test_y) - test_x.shape[1] - 1)\n",
    "print('R2 adj (test): %.4f' %r2_aj_test)"
   ]
  },
  {
   "cell_type": "code",
   "execution_count": 41,
   "metadata": {},
   "outputs": [
    {
     "data": {
      "text/plain": [
       "array([-0.        , -0.00329475, -0.04012183, -0.00412574,  0.        ])"
      ]
     },
     "execution_count": 41,
     "metadata": {},
     "output_type": "execute_result"
    }
   ],
   "source": [
    "lassoreg.coef_"
   ]
  },
  {
   "cell_type": "code",
   "execution_count": 42,
   "metadata": {},
   "outputs": [
    {
     "data": {
      "text/plain": [
       "Index(['cylinders', 'displacement', 'horsepower', 'weight', 'acceleration'], dtype='object')"
      ]
     },
     "execution_count": 42,
     "metadata": {},
     "output_type": "execute_result"
    }
   ],
   "source": [
    "train_x.columns"
   ]
  },
  {
   "cell_type": "markdown",
   "metadata": {},
   "source": [
    "Vemos que hay variables predictivas que se ignoran con la regresión Lasso (cylinders y acceleration)."
   ]
  },
  {
   "cell_type": "code",
   "execution_count": 43,
   "metadata": {},
   "outputs": [
    {
     "name": "stdout",
     "output_type": "stream",
     "text": [
      "MSE (train): 20.1638\n",
      "MSE (test) : 18.7344\n",
      "R2  (train): 0.6882\n",
      "R2  (test) : 0.6452\n",
      "R2 adj (train): 0.6821\n",
      "R2 adj (test): 0.6309\n"
     ]
    },
    {
     "data": {
      "text/plain": [
       "Index(['cylinders', 'displacement', 'horsepower', 'weight', 'acceleration'], dtype='object')"
      ]
     },
     "execution_count": 43,
     "metadata": {},
     "output_type": "execute_result"
    }
   ],
   "source": [
    "#Vamos ahora utilizar la regularización del modelo de Lasso. Utilizamos un valor de alpha específico (1).\n",
    "\n",
    "lassoreg = linear_model.Lasso(alpha=0.1, normalize=True)\n",
    "lassoreg.fit(train_x, train_y)\n",
    "\n",
    "train_y_pred = lassoreg.predict(train_x)\n",
    "test_y_pred = lassoreg.predict(test_x)\n",
    "print(\"MSE (train): %.4f\" % mean_squared_error(train_y, train_y_pred))\n",
    "print(\"MSE (test) : %.4f\" % mean_squared_error(test_y, test_y_pred))\n",
    "print('R2  (train): %.4f' % r2_score(train_y, train_y_pred))\n",
    "print('R2  (test) : %.4f' % r2_score(test_y, test_y_pred))\n",
    "r2_aj_train = 1 - (1-r2_score(train_y, train_y_pred))*(len(train_y)-1) / (len(train_y) - train_x.shape[1] - 1)\n",
    "print('R2 adj (train): %.4f' %r2_aj_train)\n",
    "r2_aj_test = 1 - (1-r2_score(test_y, test_y_pred))*(len(test_y)-1) / (len(test_y) - test_x.shape[1] - 1)\n",
    "print('R2 adj (test): %.4f' %r2_aj_test)\n",
    "\n",
    "lassoreg.coef_\n",
    "\n",
    "train_x.columns\n",
    "\n",
    "#Vemos que hay variables predictivas que se ignoran con la regresión Lasso (cylinders y acceleration)."
   ]
  },
  {
   "cell_type": "markdown",
   "metadata": {},
   "source": [
    "**<span style=\"color:red\">Taller:</span>** \n",
    "<span style=\"color:red\">Buscar el mejor modelo de regresión Lasso, intentando diferentes valores de alpha. Utilizar el R2 Ajustado sobre el test set como criterio de evaluación.</span>"
   ]
  },
  {
   "cell_type": "code",
   "execution_count": null,
   "metadata": {},
   "outputs": [],
   "source": [
    "...\n",
    "...\n",
    "...\n",
    "... TODO\n",
    "...\n",
    "..."
   ]
  },
  {
   "cell_type": "code",
   "execution_count": 50,
   "metadata": {},
   "outputs": [],
   "source": [
    "coefs = []\n",
    "r2adj_train_vec = []\n",
    "r2adj_test_vec = []\n",
    "\n",
    "for a in alphas:\n",
    "    lasso = linear_model.Lasso(alpha=a, fit_intercept=True, normalize=True)\n",
    "    lasso.fit(train_x, train_y)\n",
    "    coefs.append(lasso.coef_)\n",
    "    train_y_pred = lasso.predict(train_x)\n",
    "    test_y_pred = lasso.predict(test_x)\n",
    "    r2_aj_train = 1 - (1-r2_score(train_y, train_y_pred))*(len(train_y)-1) / (len(train_y) - train_x.shape[1] - 1)\n",
    "    r2_aj_test = 1 - (1-r2_score(test_y, test_y_pred))*(len(test_y)-1) / (len(test_y) - test_x.shape[1] - 1)\n",
    "    r2adj_train_vec.append(r2_aj_train)\n",
    "    r2adj_test_vec.append(r2_aj_test)"
   ]
  },
  {
   "cell_type": "code",
   "execution_count": 51,
   "metadata": {},
   "outputs": [
    {
     "data": {
      "text/plain": [
       "<matplotlib.legend.Legend at 0x7ff5a0c06d30>"
      ]
     },
     "execution_count": 51,
     "metadata": {},
     "output_type": "execute_result"
    },
    {
     "data": {
      "image/png": "[encoded data removed]",
      "text/plain": [
       "<Figure size 1080x504 with 1 Axes>"
      ]
     },
     "metadata": {
      "needs_background": "light"
     },
     "output_type": "display_data"
    }
   ],
   "source": [
    "plt.figure(figsize=(15,7))\n",
    "ax = plt.gca() # get current axis\n",
    "plt.plot(alphas, np.squeeze(coefs))\n",
    "ax.set_xscale('log')\n",
    "#ax.set_xlim(ax.get_xlim()[::-1])  # reverse axis -> cambiar -1 por 1 para leerlo como una persona normal\n",
    "ax.set_xlim(ax.get_xlim()[::1])\n",
    "plt.axis('tight')\n",
    "plt.xlabel('alpha')\n",
    "plt.ylabel('weights')\n",
    "plt.title('Lasso coefficients as a function of the regularization')\n",
    "plt.legend(indep_vars)"
   ]
  },
  {
   "cell_type": "code",
   "execution_count": null,
   "metadata": {},
   "outputs": [],
   "source": []
  },
  {
   "cell_type": "code",
   "execution_count": null,
   "metadata": {},
   "outputs": [],
   "source": []
  }
 ],
 "metadata": {
  "kernelspec": {
   "display_name": "Python 3",
   "language": "python",
   "name": "python3"
  },
  "language_info": {
   "codemirror_mode": {
    "name": "ipython",
    "version": 3
   },
   "file_extension": ".py",
   "mimetype": "text/x-python",
   "name": "python",
   "nbconvert_exporter": "python",
   "pygments_lexer": "ipython3",
   "version": "3.7.1"
  }
 },
 "nbformat": 4,
 "nbformat_minor": 2
}
